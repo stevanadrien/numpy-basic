{
  "nbformat": 4,
  "nbformat_minor": 0,
  "metadata": {
    "colab": {
      "provenance": []
    },
    "kernelspec": {
      "name": "python3",
      "display_name": "Python 3"
    },
    "language_info": {
      "name": "python"
    }
  },
  "cells": [
    {
      "cell_type": "markdown",
      "source": [],
      "metadata": {
        "id": "NoRPYkut3S-H"
      }
    },
    {
      "cell_type": "markdown",
      "source": [],
      "metadata": {
        "id": "GsvJBJZi3UVe"
      }
    },
    {
      "cell_type": "code",
      "execution_count": 13,
      "metadata": {
        "id": "wi2MDVbs1ynT"
      },
      "outputs": [],
      "source": [
        "import numpy as np"
      ]
    },
    {
      "cell_type": "markdown",
      "source": [
        "## **MULTIPLE ARRAY EXAMPLE**"
      ],
      "metadata": {
        "id": "ovNonRzr3QqH"
      }
    },
    {
      "cell_type": "code",
      "source": [
        "a = np.array([[1.2,2,3],[5,3,5]])\n",
        "b = np.array([[3,2,1],[4,5,6]])\n",
        "print(a[1]*b)"
      ],
      "metadata": {
        "colab": {
          "base_uri": "https://localhost:8080/"
        },
        "id": "EGieAXzw10If",
        "outputId": "afc08432-101a-4821-8a7d-fe030b83a03a"
      },
      "execution_count": 14,
      "outputs": [
        {
          "output_type": "stream",
          "name": "stdout",
          "text": [
            "[[15.  6.  5.]\n",
            " [20. 15. 30.]]\n"
          ]
        }
      ]
    },
    {
      "cell_type": "code",
      "source": [
        "#Checking the data type\n",
        "a.dtype"
      ],
      "metadata": {
        "colab": {
          "base_uri": "https://localhost:8080/"
        },
        "id": "Et4OnvSi2I6H",
        "outputId": "81c703fd-0719-4e5a-bf59-b49551571165"
      },
      "execution_count": 16,
      "outputs": [
        {
          "output_type": "execute_result",
          "data": {
            "text/plain": [
              "dtype('float64')"
            ]
          },
          "metadata": {},
          "execution_count": 16
        }
      ]
    }
  ]
}